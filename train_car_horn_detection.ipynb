{
  "nbformat": 4,
  "nbformat_minor": 0,
  "metadata": {
    "colab": {
      "name": "train_car_horn_detection.ipynb",
      "provenance": [],
      "collapsed_sections": [],
      "include_colab_link": true
    },
    "kernelspec": {
      "name": "python3",
      "display_name": "Python 3"
    },
    "accelerator": "GPU"
  },
  "cells": [
    {
      "cell_type": "markdown",
      "metadata": {
        "id": "view-in-github",
        "colab_type": "text"
      },
      "source": [
        "<a href=\"https://colab.research.google.com/github/profjefer/ANPRwithPython/blob/main/train_car_horn_detection.ipynb\" target=\"_parent\"><img src=\"https://colab.research.google.com/assets/colab-badge.svg\" alt=\"Open In Colab\"/></a>"
      ]
    },
    {
      "cell_type": "markdown",
      "metadata": {
        "id": "qgDn9otBDW5U"
      },
      "source": [
        "# Car Horn Detection"
      ]
    },
    {
      "cell_type": "markdown",
      "metadata": {
        "id": "bvI0gtweb1Ev"
      },
      "source": [
        "## Get the Dataset\n",
        "- TODO:\n",
        "  * <input type=\"checkbox\" checked> Download the dataset.\n",
        "  * <input type=\"checkbox\" checked> Extract all the parts\n",
        "  * <input type=\"checkbox\"> Read the files and preprocess them\n",
        "  * <input type=\"checkbox\"> Dump in a Numpy pickle (.npy) file."
      ]
    },
    {
      "cell_type": "markdown",
      "metadata": {
        "id": "w7CsCct2hrQV"
      },
      "source": [
        "### Download the dataset"
      ]
    },
    {
      "cell_type": "code",
      "metadata": {
        "id": "W_pG6SLGDEKQ",
        "colab": {
          "base_uri": "https://localhost:8080/",
          "height": 222
        },
        "outputId": "b69d88d7-384d-4eea-a8d9-1526ffe95937"
      },
      "source": [
        "!wget https://zenodo.org/record/1203745/files/UrbanSound8K.tar.gz -O urban8k.tgz"
      ],
      "execution_count": null,
      "outputs": [
        {
          "output_type": "stream",
          "text": [
            "--2018-10-19 04:54:26--  https://zenodo.org/record/1203745/files/UrbanSound8K.tar.gz\n",
            "Resolving zenodo.org (zenodo.org)... 137.138.76.77\n",
            "Connecting to zenodo.org (zenodo.org)|137.138.76.77|:443... connected.\n",
            "HTTP request sent, awaiting response... 200 OK\n",
            "Length: 6023741708 (5.6G) [application/octet-stream]\n",
            "Saving to: ‘urban8k.tgz’\n",
            "\n",
            "urban8k.tgz         100%[===================>]   5.61G  10.8MB/s    in 6m 43s  \n",
            "\n",
            "2018-10-19 05:01:16 (14.2 MB/s) - ‘urban8k.tgz’ saved [6023741708/6023741708]\n",
            "\n"
          ],
          "name": "stdout"
        }
      ]
    },
    {
      "cell_type": "markdown",
      "metadata": {
        "id": "O-mHE3l3hhot"
      },
      "source": [
        "### Extract it"
      ]
    },
    {
      "cell_type": "code",
      "metadata": {
        "id": "yg6qK8_5gyw1"
      },
      "source": [
        "!tar -xzf urban8k.tgz"
      ],
      "execution_count": null,
      "outputs": []
    },
    {
      "cell_type": "markdown",
      "metadata": {
        "id": "4Q-Yanqt7Ehg"
      },
      "source": [
        "### Have a look at dataset files"
      ]
    },
    {
      "cell_type": "code",
      "metadata": {
        "id": "FyEAQklahgBl",
        "colab": {
          "base_uri": "https://localhost:8080/",
          "height": 2070
        },
        "outputId": "4a5215c2-e96d-4d06-b761-93de9c785fb2"
      },
      "source": [
        "!cat UrbanSound8K/UrbanSound8K_README.txt"
      ],
      "execution_count": null,
      "outputs": [
        {
          "output_type": "stream",
          "text": [
            "UrbanSound8K\r\n",
            "============\r\n",
            "\r\n",
            "Created By\r\n",
            "----------\r\n",
            "\r\n",
            "Justin Salamon*^, Christopher Jacoby* and Juan Pablo Bello*\r\n",
            "* Music and Audio Research Lab (MARL), New York University, USA\r\n",
            "^ Center for Urban Science and Progress (CUSP), New York University, USA\r\n",
            "http://serv.cusp.nyu.edu/projects/urbansounddataset\r\n",
            "http://marl.smusic.nyu.edu/\r\n",
            "http://cusp.nyu.edu/\r\n",
            "\r\n",
            "Version 1.0\r\n",
            "\r\n",
            "\r\n",
            "Description\r\n",
            "-----------\r\n",
            "\r\n",
            "This dataset contains 8732 labeled sound excerpts (<=4s) of urban sounds from 10 classes: air_conditioner, car_horn, \r\n",
            "children_playing, dog_bark, drilling, engine_idling, gun_shot, jackhammer, siren, and street_music. The classes are \r\n",
            "drawn from the urban sound taxonomy described in the following article, which also includes a detailed description of \r\n",
            "the dataset and how it was compiled:\r\n",
            "\r\n",
            "J. Salamon, C. Jacoby and J. P. Bello, \"A Dataset and Taxonomy for Urban Sound Research\", \r\n",
            "22nd ACM International Conference on Multimedia, Orlando USA, Nov. 2014.\r\n",
            "\r\n",
            "All excerpts are taken from field recordings uploaded to www.freesound.org. The files are pre-sorted into ten folds\r\n",
            "(folders named fold1-fold10) to help in the reproduction of and comparison with the automatic classification results\r\n",
            "reported in the article above.\r\n",
            "\r\n",
            "In addition to the sound excerpts, a CSV file containing metadata about each excerpt is also provided.\r\n",
            "\r\n",
            "\r\n",
            "Audio Files Included\r\n",
            "--------------------\r\n",
            "\r\n",
            "8732 audio files of urban sounds (see description above) in WAV format. The sampling rate, bit depth, and number of \r\n",
            "channels are the same as those of the original file uploaded to Freesound (and hence may vary from file to file).\r\n",
            "\r\n",
            "\r\n",
            "Meta-data Files Included\r\n",
            "------------------------\r\n",
            "\r\n",
            "UrbanSound8k.csv\r\n",
            "\r\n",
            "This file contains meta-data information about every audio file in the dataset. This includes:\r\n",
            "\r\n",
            "* slice_file_name: \r\n",
            "The name of the audio file. The name takes the following format: [fsID]-[classID]-[occurrenceID]-[sliceID].wav, where:\r\n",
            "[fsID] = the Freesound ID of the recording from which this excerpt (slice) is taken\r\n",
            "[classID] = a numeric identifier of the sound class (see description of classID below for further details)\r\n",
            "[occurrenceID] = a numeric identifier to distinguish different occurrences of the sound within the original recording\r\n",
            "[sliceID] = a numeric identifier to distinguish different slices taken from the same occurrence\r\n",
            "\r\n",
            "* fsID:\r\n",
            "The Freesound ID of the recording from which this excerpt (slice) is taken\r\n",
            "\r\n",
            "* start\r\n",
            "The start time of the slice in the original Freesound recording\r\n",
            "\r\n",
            "* end:\r\n",
            "The end time of slice in the original Freesound recording\r\n",
            "\r\n",
            "* salience:\r\n",
            "A (subjective) salience rating of the sound. 1 = foreground, 2 = background.\r\n",
            "\r\n",
            "* fold:\r\n",
            "The fold number (1-10) to which this file has been allocated.\r\n",
            "\r\n",
            "* classID:\r\n",
            "A numeric identifier of the sound class:\r\n",
            "0 = air_conditioner\r\n",
            "1 = car_horn\r\n",
            "2 = children_playing\r\n",
            "3 = dog_bark\r\n",
            "4 = drilling\r\n",
            "5 = engine_idling\r\n",
            "6 = gun_shot\r\n",
            "7 = jackhammer\r\n",
            "8 = siren\r\n",
            "9 = street_music\r\n",
            "\r\n",
            "* class:\r\n",
            "The class name: air_conditioner, car_horn, children_playing, dog_bark, drilling, engine_idling, gun_shot, jackhammer, \r\n",
            "siren, street_music.\r\n",
            "\r\n",
            "\r\n",
            "Please Acknowledge UrbanSound8K in Academic Research\r\n",
            "----------------------------------------------------\r\n",
            "\r\n",
            "When UrbanSound8K is used for academic research, we would highly appreciate it if scientific publications of works \r\n",
            "partly based on the UrbanSound8K dataset cite the following publication:\r\n",
            "\r\n",
            "J. Salamon, C. Jacoby and J. P. Bello, \"A Dataset and Taxonomy for Urban Sound Research\", \r\n",
            "22nd ACM International Conference on Multimedia, Orlando USA, Nov. 2014.\r\n",
            "\r\n",
            "The creation of this dataset was supported by a seed grant by NYU's Center for Urban Science and Progress (CUSP).\r\n",
            "\r\n",
            "\r\n",
            "Conditions of Use\r\n",
            "-----------------\r\n",
            "\r\n",
            "Dataset compiled by Justin Salamon, Christopher Jacoby and Juan Pablo Bello. All files are excerpts of recordings\r\n",
            "uploaded to www.freesound.org. Please see FREESOUNDCREDITS.txt for an attribution list.\r\n",
            " \r\n",
            "The UrbanSound8K dataset is offered free of charge for non-commercial use only under the terms of the Creative Commons\r\n",
            "Attribution Noncommercial License (by-nc), version 3.0: http://creativecommons.org/licenses/by-nc/3.0/\r\n",
            " \r\n",
            "The dataset and its contents are made available on an \"as is\" basis and without warranties of any kind, including \r\n",
            "without limitation satisfactory quality and conformity, merchantability, fitness for a particular purpose, accuracy or \r\n",
            "completeness, or absence of errors. Subject to any liability that may not be excluded or limited by law, NYU is not \r\n",
            "liable for, and expressly excludes, all liability for loss or damage however and whenever caused to anyone by any use of\r\n",
            "the UrbanSound8K dataset or any part of it.\r\n",
            "\r\n",
            "\r\n",
            "Feedback\r\n",
            "--------\r\n",
            "\r\n",
            "Please help us improve UrbanSound8K by sending your feedback to: justin.salamon@nyu.edu or justin.salamon@gmail.com\r\n",
            "In case of a problem report please include as many details as possible.\r\n"
          ],
          "name": "stdout"
        }
      ]
    },
    {
      "cell_type": "code",
      "metadata": {
        "id": "SEtQ7bwFiiaw",
        "colab": {
          "base_uri": "https://localhost:8080/",
          "height": 3696
        },
        "outputId": "13556459-b0c8-4e22-ca79-439fb3e8e97c"
      },
      "source": [
        "!dir UrbanSound8K/audio/fold1"
      ],
      "execution_count": null,
      "outputs": [
        {
          "output_type": "stream",
          "text": [
            "101415-3-0-2.wav   146186-5-0-8.wav    177621-0-0-145.wav  40722-8-0-5.wav\n",
            "101415-3-0-3.wav   146186-5-0-9.wav    177621-0-0-147.wav  40722-8-0-6.wav\n",
            "101415-3-0-8.wav   147764-4-0-0.wav    177621-0-0-27.wav   40722-8-0-7.wav\n",
            "102106-3-0-0.wav   147764-4-1-0.wav    177621-0-0-2.wav    40722-8-0-8.wav\n",
            "102305-6-0-0.wav   147764-4-2-0.wav    177621-0-0-31.wav   43786-3-0-0.wav\n",
            "102842-3-0-1.wav   147764-4-3-0.wav    177621-0-0-35.wav   43786-3-1-0.wav\n",
            "102842-3-1-0.wav   147764-4-4-0.wav    177621-0-0-46.wav   43806-8-0-0.wav\n",
            "102842-3-1-5.wav   147764-4-4-1.wav    177621-0-0-47.wav   44736-5-0-0.wav\n",
            "102842-3-1-6.wav   147764-4-4-2.wav    177621-0-0-48.wav   44736-5-0-1.wav\n",
            "103074-7-0-0.wav   147764-4-5-0.wav    177621-0-0-54.wav   46654-6-0-0.wav\n",
            "103074-7-0-1.wav   147764-4-6-0.wav    177621-0-0-57.wav   46656-6-0-0.wav\n",
            "103074-7-0-2.wav   147764-4-7-0.wav    177621-0-0-80.wav   46656-6-1-0.wav\n",
            "103074-7-1-0.wav   147764-4-8-0.wav    177621-0-0-88.wav   46656-6-2-0.wav\n",
            "103074-7-1-1.wav   150341-3-0-0.wav    177621-0-0-91.wav   46656-6-3-0.wav\n",
            "103074-7-1-2.wav   150341-3-1-0.wav    177621-0-0-93.wav   46656-6-4-0.wav\n",
            "103074-7-1-3.wav   151977-0-0-0.wav    17913-4-0-0.wav\t   46656-6-5-0.wav\n",
            "103074-7-1-4.wav   151977-0-0-10.wav   17913-4-0-1.wav\t   46669-4-0-0.wav\n",
            "103074-7-1-5.wav   151977-0-0-11.wav   17913-4-0-2.wav\t   46669-4-0-10.wav\n",
            "103074-7-1-6.wav   151977-0-0-12.wav   17913-4-1-0.wav\t   46669-4-0-24.wav\n",
            "103074-7-2-0.wav   151977-0-0-13.wav   17913-4-2-0.wav\t   46669-4-0-26.wav\n",
            "103074-7-3-0.wav   151977-0-0-1.wav    179858-1-0-0.wav    46669-4-0-2.wav\n",
            "103074-7-3-1.wav   151977-0-0-2.wav    179867-1-0-0.wav    46669-4-0-30.wav\n",
            "103074-7-3-2.wav   151977-0-0-3.wav    180256-3-0-0.wav    46669-4-0-31.wav\n",
            "103074-7-3-3.wav   151977-0-0-4.wav    180256-3-0-1.wav    46669-4-0-32.wav\n",
            "103074-7-4-0.wav   151977-0-0-5.wav    180256-3-0-2.wav    46669-4-0-33.wav\n",
            "103074-7-4-1.wav   151977-0-0-6.wav    180256-3-0-3.wav    46669-4-0-35.wav\n",
            "103074-7-4-2.wav   151977-0-0-7.wav    180937-7-0-0.wav    46669-4-0-36.wav\n",
            "103074-7-4-3.wav   151977-0-0-8.wav    180937-7-0-1.wav    46669-4-0-37.wav\n",
            "103074-7-4-4.wav   151977-0-0-9.wav    180937-7-0-2.wav    46669-4-0-39.wav\n",
            "103074-7-4-5.wav   155202-9-0-124.wav  180937-7-0-4.wav    46669-4-0-3.wav\n",
            "103074-7-4-6.wav   155202-9-0-126.wav  180937-7-0-5.wav    46669-4-0-45.wav\n",
            "103258-5-0-0.wav   155202-9-0-135.wav  180937-7-0-6.wav    46669-4-0-48.wav\n",
            "103258-5-0-10.wav  155202-9-0-38.wav   180937-7-1-0.wav    46669-4-0-49.wav\n",
            "103258-5-0-11.wav  155202-9-0-42.wav   180937-7-1-10.wav   46669-4-0-4.wav\n",
            "103258-5-0-12.wav  155202-9-0-6.wav    180937-7-1-11.wav   46669-4-0-54.wav\n",
            "103258-5-0-13.wav  155310-3-0-0.wav    180937-7-1-12.wav   46669-4-0-61.wav\n",
            "103258-5-0-14.wav  15564-2-0-0.wav     180937-7-1-13.wav   46669-4-0-63.wav\n",
            "103258-5-0-15.wav  15564-2-0-1.wav     180937-7-1-14.wav   46669-4-0-8.wav\n",
            "103258-5-0-16.wav  15564-2-0-2.wav     180937-7-1-15.wav   46669-4-0-9.wav\n",
            "103258-5-0-17.wav  156194-1-0-0.wav    180937-7-1-1.wav    46918-5-0-0.wav\n",
            "103258-5-0-18.wav  157867-8-0-0.wav    180937-7-1-2.wav    46918-5-0-1.wav\n",
            "103258-5-0-19.wav  157867-8-0-10.wav   180937-7-1-3.wav    46918-5-0-2.wav\n",
            "103258-5-0-1.wav   157867-8-0-11.wav   180937-7-1-4.wav    50901-0-0-0.wav\n",
            "103258-5-0-2.wav   157867-8-0-12.wav   180937-7-1-5.wav    50901-0-1-0.wav\n",
            "103258-5-0-3.wav   157867-8-0-13.wav   180937-7-1-6.wav    50901-0-1-1.wav\n",
            "103258-5-0-4.wav   157867-8-0-14.wav   180937-7-1-7.wav    51022-3-13-0.wav\n",
            "103258-5-0-5.wav   157867-8-0-15.wav   180937-7-1-8.wav    51022-3-29-0.wav\n",
            "103258-5-0-6.wav   157867-8-0-16.wav   180937-7-1-9.wav    51022-3-30-4.wav\n",
            "103258-5-0-7.wav   157867-8-0-17.wav   180937-7-2-0.wav    51022-3-7-0.wav\n",
            "103258-5-0-8.wav   157867-8-0-18.wav   180937-7-2-10.wav   54858-3-0-0.wav\n",
            "103258-5-0-9.wav   157867-8-0-19.wav   180937-7-2-1.wav    54858-3-1-2.wav\n",
            "105415-2-0-15.wav  157867-8-0-1.wav    180937-7-2-2.wav    54858-3-2-0.wav\n",
            "105415-2-0-19.wav  157867-8-0-20.wav   180937-7-2-3.wav    55020-4-0-0.wav\n",
            "105415-2-0-1.wav   157867-8-0-21.wav   180937-7-2-4.wav    55020-4-0-10.wav\n",
            "105415-2-0-21.wav  157867-8-0-22.wav   180937-7-2-5.wav    55020-4-0-11.wav\n",
            "105415-2-0-24.wav  157867-8-0-23.wav   180937-7-2-6.wav    55020-4-0-12.wav\n",
            "105415-2-0-4.wav   157867-8-0-24.wav   180937-7-2-7.wav    55020-4-0-13.wav\n",
            "105415-2-0-6.wav   157867-8-0-25.wav   180937-7-2-8.wav    55020-4-0-14.wav\n",
            "105415-2-0-8.wav   157867-8-0-26.wav   180937-7-2-9.wav    55020-4-0-1.wav\n",
            "106905-8-0-0.wav   157867-8-0-27.wav   180937-7-3-0.wav    55020-4-0-2.wav\n",
            "106905-8-0-1.wav   157867-8-0-28.wav   180937-7-3-10.wav   55020-4-0-3.wav\n",
            "106905-8-0-2.wav   157867-8-0-2.wav    180937-7-3-11.wav   55020-4-0-4.wav\n",
            "106905-8-0-3.wav   157867-8-0-3.wav    180937-7-3-12.wav   55020-4-0-5.wav\n",
            "108041-9-0-11.wav  157867-8-0-4.wav    180937-7-3-13.wav   55020-4-0-6.wav\n",
            "108041-9-0-2.wav   157867-8-0-5.wav    180937-7-3-14.wav   55020-4-0-7.wav\n",
            "108041-9-0-4.wav   157867-8-0-6.wav    180937-7-3-15.wav   55020-4-0-8.wav\n",
            "108041-9-0-5.wav   157867-8-0-7.wav    180937-7-3-17.wav   55020-4-0-9.wav\n",
            "108041-9-0-6.wav   157867-8-0-8.wav    180937-7-3-18.wav   57320-0-0-0.wav\n",
            "108041-9-0-7.wav   157867-8-0-9.wav    180937-7-3-19.wav   57320-0-0-10.wav\n",
            "108041-9-0-9.wav   159738-8-0-0.wav    180937-7-3-1.wav    57320-0-0-11.wav\n",
            "108362-2-0-11.wav  159738-8-0-10.wav   180937-7-3-20.wav   57320-0-0-13.wav\n",
            "108362-2-0-12.wav  159738-8-0-11.wav   180937-7-3-21.wav   57320-0-0-15.wav\n",
            "108362-2-0-21.wav  159738-8-0-12.wav   180937-7-3-22.wav   57320-0-0-21.wav\n",
            "108362-2-0-23.wav  159738-8-0-13.wav   180937-7-3-23.wav   57320-0-0-22.wav\n",
            "108362-2-0-29.wav  159738-8-0-14.wav   180937-7-3-24.wav   57320-0-0-24.wav\n",
            "108362-2-0-30.wav  159738-8-0-15.wav   180937-7-3-26.wav   57320-0-0-27.wav\n",
            "108362-2-0-7.wav   159738-8-0-16.wav   180937-7-3-27.wav   57320-0-0-31.wav\n",
            "108362-2-0-9.wav   159738-8-0-17.wav   180937-7-3-28.wav   57320-0-0-32.wav\n",
            "113205-5-0-0.wav   159738-8-0-18.wav   180937-7-3-29.wav   57320-0-0-33.wav\n",
            "113205-5-1-0.wav   159738-8-0-19.wav   180937-7-3-2.wav    57320-0-0-34.wav\n",
            "113205-5-1-1.wav   159738-8-0-1.wav    180937-7-3-30.wav   57320-0-0-36.wav\n",
            "113205-5-1-2.wav   159738-8-0-2.wav    180937-7-3-31.wav   57320-0-0-37.wav\n",
            "113205-5-1-3.wav   159738-8-0-3.wav    180937-7-3-32.wav   57320-0-0-38.wav\n",
            "113205-5-1-4.wav   159738-8-0-4.wav    180937-7-3-33.wav   57320-0-0-39.wav\n",
            "113205-5-1-5.wav   159738-8-0-5.wav    180937-7-3-3.wav    57320-0-0-42.wav\n",
            "113205-5-1-6.wav   159738-8-0-6.wav    180937-7-3-4.wav    57320-0-0-45.wav\n",
            "113205-5-1-7.wav   159738-8-0-7.wav    180937-7-3-5.wav    57320-0-0-4.wav\n",
            "113205-5-1-8.wav   159738-8-0-8.wav    180937-7-3-6.wav    57320-0-0-5.wav\n",
            "113205-5-1-9.wav   159738-8-0-9.wav    180937-7-3-7.wav    57320-0-0-6.wav\n",
            "114587-3-0-2.wav   160009-2-0-11.wav   180937-7-3-8.wav    57320-0-0-7.wav\n",
            "114587-3-0-4.wav   160009-2-0-1.wav    180937-7-3-9.wav    57320-0-0-9.wav\n",
            "114587-3-0-5.wav   160009-2-0-22.wav   180937-7-4-0.wav    57553-3-0-0.wav\n",
            "114587-3-0-7.wav   160009-2-0-30.wav   180937-7-4-10.wav   57553-3-1-0.wav\n",
            "118101-3-0-0.wav   160009-2-0-31.wav   180937-7-4-11.wav   57553-3-2-0.wav\n",
            "118101-3-0-3.wav   160009-2-0-47.wav   180937-7-4-12.wav   57584-4-0-0.wav\n",
            "118101-3-0-4.wav   160009-2-0-50.wav   180937-7-4-13.wav   57584-4-0-1.wav\n",
            "118101-3-0-6.wav   160009-2-0-5.wav    180937-7-4-14.wav   57584-4-0-2.wav\n",
            "118279-8-0-0.wav   160094-3-0-0.wav    180937-7-4-2.wav    57584-4-0-3.wav\n",
            "118279-8-0-10.wav  161702-9-0-26.wav   180937-7-4-3.wav    57584-4-0-4.wav\n",
            "118279-8-0-11.wav  161702-9-0-30.wav   180937-7-4-4.wav    57584-4-0-5.wav\n",
            "118279-8-0-12.wav  161702-9-0-37.wav   180937-7-4-5.wav    57584-4-0-6.wav\n",
            "118279-8-0-13.wav  161702-9-0-45.wav   180937-7-4-6.wav    57584-4-0-7.wav\n",
            "118279-8-0-14.wav  161702-9-0-6.wav    180937-7-4-7.wav    57584-4-0-8.wav\n",
            "118279-8-0-1.wav   161702-9-0-8.wav    180937-7-4-8.wav    59277-0-0-0.wav\n",
            "118279-8-0-2.wav   162540-1-0-0.wav    180937-7-4-9.wav    59277-0-0-1.wav\n",
            "118279-8-0-3.wav   162540-1-1-0.wav    182800-2-0-0.wav    59277-0-0-2.wav\n",
            "118279-8-0-4.wav   162540-1-2-0.wav    182800-2-1-0.wav    59277-0-0-3.wav\n",
            "118279-8-0-5.wav   162703-1-0-0.wav    182800-2-2-0.wav    59277-0-0-4.wav\n",
            "118279-8-0-6.wav   164053-8-0-0.wav    182800-2-2-1.wav    59277-0-0-5.wav\n",
            "118279-8-0-7.wav   164053-8-1-0.wav    182800-2-2-2.wav    59277-0-0-6.wav\n",
            "118279-8-0-8.wav   164053-8-2-0.wav    182800-2-2-3.wav    59277-0-0-7.wav\n",
            "118279-8-0-9.wav   164053-8-2-1.wav    182800-2-3-0.wav    65749-3-1-12.wav\n",
            "118963-3-0-0.wav   164053-8-2-2.wav    182800-2-3-1.wav    65749-3-1-14.wav\n",
            "119455-5-0-0.wav   164053-8-2-3.wav    184355-1-0-0.wav    65749-3-1-24.wav\n",
            "119455-5-0-1.wav   164053-8-3-0.wav    19026-1-0-0.wav\t   65749-3-1-9.wav\n",
            "119455-5-0-2.wav   164312-3-0-0.wav    191431-9-0-26.wav   69304-9-0-0.wav\n",
            "119455-5-0-3.wav   164312-3-1-0.wav    191431-9-0-30.wav   69304-9-0-12.wav\n",
            "119455-5-0-4.wav   164312-3-3-0.wav    191431-9-0-61.wav   69304-9-0-14.wav\n",
            "119455-5-0-5.wav   164312-3-4-0.wav    191431-9-0-66.wav   69304-9-0-15.wav\n",
            "119455-5-0-6.wav   165067-2-0-111.wav  191431-9-0-73.wav   69304-9-0-6.wav\n",
            "119455-5-0-7.wav   165067-2-0-112.wav  191431-9-0-8.wav    69304-9-0-7.wav\n",
            "122690-6-0-0.wav   165067-2-0-35.wav   192124-2-0-0.wav    7061-6-0-0.wav\n",
            "124489-9-0-12.wav  165067-2-0-56.wav   192124-2-0-11.wav   71087-4-0-0.wav\n",
            "124489-9-0-14.wav  165067-2-0-72.wav   192124-2-0-12.wav   71087-4-1-0.wav\n",
            "124489-9-0-16.wav  165067-2-0-91.wav   192124-2-0-15.wav   72261-3-0-17.wav\n",
            "124489-9-0-17.wav  165067-2-0-9.wav    192124-2-0-3.wav    72261-3-0-23.wav\n",
            "124489-9-0-18.wav  165642-4-0-0.wav    192124-2-0-4.wav    72261-3-0-27.wav\n",
            "124489-9-0-6.wav   165645-4-0-0.wav    192124-2-0-5.wav    72261-3-0-6.wav\n",
            "125791-3-0-12.wav  165645-4-1-0.wav    192124-2-0-7.wav    72579-3-0-0.wav\n",
            "125791-3-0-13.wav  165645-4-2-0.wav    193394-3-0-10.wav   72579-3-0-2.wav\n",
            "125791-3-0-15.wav  165645-4-3-0.wav    193394-3-0-11.wav   72579-3-0-3.wav\n",
            "125791-3-0-9.wav   165645-4-4-0.wav    193394-3-0-4.wav    72579-3-0-4.wav\n",
            "127873-0-0-0.wav   165645-4-5-0.wav    193394-3-0-7.wav    73277-9-0-0.wav\n",
            "130030-3-0-0.wav   166268-3-0-0.wav    193698-2-0-112.wav  73277-9-0-16.wav\n",
            "132016-9-0-0.wav   166268-3-1-0.wav    193698-2-0-113.wav  73277-9-0-17.wav\n",
            "132016-9-0-11.wav  166268-3-2-0.wav    193698-2-0-114.wav  73277-9-0-19.wav\n",
            "132016-9-0-14.wav  172314-9-0-22.wav   193698-2-0-140.wav  73277-9-0-24.wav\n",
            "132016-9-0-16.wav  172314-9-0-40.wav   193698-2-0-42.wav   73277-9-0-28.wav\n",
            "132016-9-0-20.wav  172314-9-0-51.wav   193698-2-0-58.wav   7383-3-0-0.wav\n",
            "132016-9-0-6.wav   172314-9-0-52.wav   193698-2-0-64.wav   7383-3-0-1.wav\n",
            "134717-0-0-0.wav   172314-9-0-72.wav   193698-2-0-89.wav   7383-3-1-0.wav\n",
            "134717-0-0-12.wav  172314-9-0-80.wav   194732-9-0-126.wav  76093-6-0-0.wav\n",
            "134717-0-0-13.wav  174276-7-0-0.wav    194732-9-0-163.wav  76093-6-1-0.wav\n",
            "134717-0-0-14.wav  174276-7-1-0.wav    194732-9-0-171.wav  77246-6-0-0.wav\n",
            "134717-0-0-15.wav  174276-7-2-0.wav    194732-9-0-175.wav  77766-9-0-0.wav\n",
            "134717-0-0-16.wav  174276-7-3-0.wav    194732-9-0-191.wav  77766-9-0-3.wav\n",
            "134717-0-0-18.wav  174276-7-4-0.wav    194732-9-0-41.wav   77766-9-0-4.wav\n",
            "134717-0-0-19.wav  174276-7-5-0.wav    194732-9-0-95.wav   77766-9-0-5.wav\n",
            "134717-0-0-1.wav   174276-7-6-0.wav    196065-2-0-0.wav    77766-9-0-6.wav\n",
            "134717-0-0-20.wav  174290-6-0-0.wav    196079-2-0-0.wav    77766-9-0-7.wav\n",
            "134717-0-0-21.wav  174290-6-1-0.wav    196087-2-0-0.wav    78360-4-0-0.wav\n",
            "134717-0-0-22.wav  174290-6-2-0.wav    196400-6-0-0.wav    78360-4-0-11.wav\n",
            "134717-0-0-23.wav  174290-6-3-0.wav    197073-3-0-0.wav    78360-4-0-12.wav\n",
            "134717-0-0-24.wav  174294-6-0-0.wav    197073-3-3-0.wav    78360-4-0-14.wav\n",
            "134717-0-0-25.wav  174294-6-1-0.wav    197073-3-4-3.wav    78360-4-0-15.wav\n",
            "134717-0-0-26.wav  174294-6-2-0.wav    197073-3-7-0.wav    78360-4-0-16.wav\n",
            "134717-0-0-27.wav  175845-1-0-0.wav    197318-6-0-0.wav    78360-4-0-17.wav\n",
            "134717-0-0-28.wav  175851-1-0-0.wav    197318-6-10-0.wav   78360-4-0-18.wav\n",
            "134717-0-0-2.wav   17592-5-0-0.wav     197318-6-1-0.wav    78360-4-0-19.wav\n",
            "134717-0-0-4.wav   17592-5-1-0.wav     197318-6-11-0.wav   78360-4-0-1.wav\n",
            "134717-0-0-5.wav   17592-5-1-1.wav     197318-6-12-0.wav   78360-4-0-20.wav\n",
            "134717-0-0-6.wav   17592-5-1-2.wav     197318-6-2-0.wav    78360-4-0-21.wav\n",
            "134717-0-0-7.wav   17592-5-1-3.wav     197318-6-3-0.wav    78360-4-0-22.wav\n",
            "134717-0-0-8.wav   176257-3-0-0.wav    197318-6-4-0.wav    78360-4-0-23.wav\n",
            "134717-0-0-9.wav   176258-3-1-12.wav   197318-6-5-0.wav    78360-4-0-2.wav\n",
            "135776-2-0-32.wav  176258-3-1-13.wav   197318-6-6-0.wav    78360-4-0-3.wav\n",
            "135776-2-0-37.wav  176258-3-1-18.wav   197318-6-7-0.wav    78360-4-0-4.wav\n",
            "135776-2-0-40.wav  176258-3-1-2.wav    197318-6-8-0.wav    78360-4-0-5.wav\n",
            "135776-2-0-49.wav  176638-1-0-0.wav    197318-6-9-0.wav    78360-4-0-6.wav\n",
            "135776-2-0-50.wav  176638-1-1-0.wav    203356-3-0-0.wav    78360-4-0-7.wav\n",
            "135776-2-0-65.wav  176714-2-0-18.wav   203356-3-0-1.wav    78360-4-0-8.wav\n",
            "135776-2-0-85.wav  176714-2-0-23.wav   203356-3-0-2.wav    78360-4-0-9.wav\n",
            "135776-2-0-90.wav  176714-2-0-26.wav   203356-3-0-3.wav    83199-9-0-0.wav\n",
            "137156-9-0-28.wav  176714-2-0-33.wav   203440-3-0-0.wav    86278-6-0-0.wav\n",
            "137156-9-0-30.wav  176714-2-0-40.wav   203440-3-0-1.wav    86279-3-0-0.wav\n",
            "137156-9-0-31.wav  176714-2-0-51.wav   203440-3-0-5.wav    87275-1-0-0.wav\n",
            "137156-9-0-5.wav   176714-2-0-55.wav   203440-3-0-6.wav    87275-1-1-0.wav\n",
            "137156-9-0-73.wav  176714-2-0-77.wav   21684-9-0-12.wav    87275-1-2-0.wav\n",
            "137156-9-0-79.wav  176787-5-0-0.wav    21684-9-0-25.wav    87275-1-3-0.wav\n",
            "138015-3-0-1.wav   176787-5-0-10.wav   21684-9-0-30.wav    87275-1-4-0.wav\n",
            "138015-3-0-5.wav   176787-5-0-11.wav   21684-9-0-39.wav    87275-1-5-0.wav\n",
            "138015-3-0-7.wav   176787-5-0-12.wav   21684-9-0-50.wav    88466-7-0-0.wav\n",
            "138031-2-0-13.wav  176787-5-0-13.wav   21684-9-0-5.wav\t   89212-3-0-0.wav\n",
            "138031-2-0-22.wav  176787-5-0-14.wav   21684-9-0-7.wav\t   89948-5-0-0.wav\n",
            "138031-2-0-23.wav  176787-5-0-15.wav   22962-4-0-0.wav\t   9031-3-1-0.wav\n",
            "138031-2-0-28.wav  176787-5-0-16.wav   22962-4-0-1.wav\t   9031-3-2-0.wav\n",
            "138031-2-0-2.wav   176787-5-0-17.wav   22962-4-0-2.wav\t   9031-3-3-0.wav\n",
            "138031-2-0-45.wav  176787-5-0-18.wav   24074-1-0-0.wav\t   9031-3-4-0.wav\n",
            "138031-2-0-47.wav  176787-5-0-19.wav   24074-1-0-10.wav    94868-1-0-0.wav\n",
            "138031-2-0-7.wav   176787-5-0-1.wav    24074-1-0-11.wav    94868-1-1-0.wav\n",
            "139951-9-0-13.wav  176787-5-0-20.wav   24074-1-0-12.wav    94868-1-2-0.wav\n",
            "139951-9-0-17.wav  176787-5-0-21.wav   24074-1-0-13.wav    96158-4-0-0.wav\n",
            "139951-9-0-29.wav  176787-5-0-22.wav   24074-1-0-1.wav\t   97317-2-0-22.wav\n",
            "139951-9-0-33.wav  176787-5-0-23.wav   24074-1-0-2.wav\t   97317-2-0-23.wav\n",
            "139951-9-0-45.wav  176787-5-0-24.wav   24074-1-0-3.wav\t   97317-2-0-25.wav\n",
            "139951-9-0-9.wav   176787-5-0-25.wav   24074-1-0-4.wav\t   97317-2-0-28.wav\n",
            "14113-4-0-0.wav    176787-5-0-26.wav   24074-1-0-5.wav\t   97317-2-0-34.wav\n",
            "14113-4-0-1.wav    176787-5-0-27.wav   24074-1-0-6.wav\t   97317-2-0-36.wav\n",
            "143604-5-0-0.wav   176787-5-0-28.wav   24074-1-0-7.wav\t   97317-2-0-5.wav\n",
            "143651-2-0-0.wav   176787-5-0-29.wav   24074-1-0-8.wav\t   98223-7-0-0.wav\n",
            "143651-2-0-16.wav  176787-5-0-2.wav    24074-1-0-9.wav\t   98223-7-10-0.wav\n",
            "143651-2-0-20.wav  176787-5-0-30.wav   26270-9-0-19.wav    98223-7-1-0.wav\n",
            "143651-2-0-22.wav  176787-5-0-3.wav    26270-9-0-23.wav    98223-7-2-0.wav\n",
            "143651-2-0-39.wav  176787-5-0-4.wav    26270-9-0-30.wav    98223-7-3-0.wav\n",
            "143651-2-0-55.wav  176787-5-0-5.wav    26270-9-0-32.wav    98223-7-4-0.wav\n",
            "143651-2-0-59.wav  176787-5-0-6.wav    26270-9-0-35.wav    98223-7-5-0.wav\n",
            "143651-2-0-63.wav  176787-5-0-7.wav    26270-9-0-3.wav\t   98223-7-6-0.wav\n",
            "146186-5-0-0.wav   176787-5-0-8.wav    30823-8-0-0.wav\t   98223-7-7-0.wav\n",
            "146186-5-0-10.wav  176787-5-0-9.wav    31323-3-0-1.wav\t   98223-7-8-0.wav\n",
            "146186-5-0-11.wav  177621-0-0-0.wav    31323-3-0-20.wav    98223-7-9-0.wav\n",
            "146186-5-0-12.wav  177621-0-0-100.wav  31323-3-0-22.wav    99180-9-0-0.wav\n",
            "146186-5-0-13.wav  177621-0-0-104.wav  31323-3-0-2.wav\t   99180-9-0-2.wav\n",
            "146186-5-0-1.wav   177621-0-0-105.wav  31840-3-0-0.wav\t   99180-9-0-36.wav\n",
            "146186-5-0-2.wav   177621-0-0-109.wav  31840-3-1-0.wav\t   99180-9-0-48.wav\n",
            "146186-5-0-3.wav   177621-0-0-117.wav  40722-8-0-0.wav\t   99180-9-0-49.wav\n",
            "146186-5-0-4.wav   177621-0-0-120.wav  40722-8-0-1.wav\t   99180-9-0-7.wav\n",
            "146186-5-0-5.wav   177621-0-0-126.wav  40722-8-0-2.wav\n",
            "146186-5-0-6.wav   177621-0-0-127.wav  40722-8-0-3.wav\n",
            "146186-5-0-7.wav   177621-0-0-128.wav  40722-8-0-4.wav\n"
          ],
          "name": "stdout"
        }
      ]
    },
    {
      "cell_type": "code",
      "metadata": {
        "id": "dbX8ibqNtqUQ"
      },
      "source": [
        "import pandas as pd\n",
        "metadata = pd.read_csv('UrbanSound8K/metadata/UrbanSound8K.csv')\n",
        "metadata.drop(columns=['fsID', 'fold', 'classID'], inplace=True)"
      ],
      "execution_count": null,
      "outputs": []
    },
    {
      "cell_type": "markdown",
      "metadata": {
        "id": "9UTQuPwq7AKt"
      },
      "source": [
        "### Explore the metadata"
      ]
    },
    {
      "cell_type": "code",
      "metadata": {
        "id": "8FxOgz3zuN2d",
        "colab": {
          "base_uri": "https://localhost:8080/",
          "height": 218
        },
        "outputId": "e72fd1d5-de8d-4127-9b25-830e013e25b0"
      },
      "source": [
        "metadata.groupby('class').slice_file_name.count()"
      ],
      "execution_count": null,
      "outputs": [
        {
          "output_type": "execute_result",
          "data": {
            "text/plain": [
              "class\n",
              "air_conditioner     1000\n",
              "car_horn             429\n",
              "children_playing    1000\n",
              "dog_bark            1000\n",
              "drilling            1000\n",
              "engine_idling       1000\n",
              "gun_shot             374\n",
              "jackhammer          1000\n",
              "siren                929\n",
              "street_music        1000\n",
              "Name: slice_file_name, dtype: int64"
            ]
          },
          "metadata": {
            "tags": []
          },
          "execution_count": 19
        }
      ]
    },
    {
      "cell_type": "markdown",
      "metadata": {
        "id": "paeugOV2OxA4"
      },
      "source": [
        "### Load an audio file"
      ]
    },
    {
      "cell_type": "code",
      "metadata": {
        "id": "FkVSbZCJvaTw"
      },
      "source": [
        "import tensorflow as tf\n",
        "from tensorflow.contrib.framework.python.ops import audio_ops"
      ],
      "execution_count": null,
      "outputs": []
    },
    {
      "cell_type": "code",
      "metadata": {
        "id": "RdiLub93-6vo"
      },
      "source": [
        "audio_binary = tf.read_file('UrbanSound8K/audio/fold1/118279-8-0-0.wav')\n",
        "desired_channels=1\n",
        "wav_decoder = audio_ops.decode_wav(audio_binary, desired_channels=desired_channels)\n",
        "\n",
        "audio = wav_decoder.audio\n",
        "audio = tf.reshape(wav_decoder.audio, [1, tf.shape(audio)[0]])\n",
        "\n",
        "audio_stft = tf.contrib.signal.stft(audio, frame_length=1024, frame_step=512, fft_length=1024)"
      ],
      "execution_count": null,
      "outputs": []
    },
    {
      "cell_type": "code",
      "metadata": {
        "id": "4YmFflDNKWwA",
        "colab": {
          "base_uri": "https://localhost:8080/",
          "height": 336
        },
        "outputId": "6212552c-c889-48a2-af40-1fef1f38b0e2"
      },
      "source": [
        "with tf.Session() as sess:\n",
        "  print(sess.run(audio_stft))"
      ],
      "execution_count": null,
      "outputs": [
        {
          "output_type": "stream",
          "text": [
            "[[[ 2.51935124e-01+0.00000000e+00j -3.34782720e-01+2.92894316e+00j\n",
            "   -3.63964289e-01-1.68518007e+00j ... -4.00841236e-05-9.02414322e-05j\n",
            "   -2.33650208e-05+1.09791756e-04j  1.11445785e-04+0.00000000e+00j]\n",
            "  [-4.96557808e+00+0.00000000e+00j  4.66363907e+00-1.99526048e+00j\n",
            "   -2.98943686e+00-2.19562531e-01j ...  1.34706497e-04-1.16579235e-04j\n",
            "   -3.33786011e-05+8.80360603e-05j  1.74045563e-05-0.00000000e+00j]\n",
            "  [-2.48523331e+00+0.00000000e+00j  1.81372666e+00+1.01712573e+00j\n",
            "    2.68789351e-01+8.81789505e-01j ... -4.74601984e-05-5.39720058e-04j\n",
            "    1.09016895e-04+2.60710716e-04j -1.81555748e-04-0.00000000e+00j]\n",
            "  ...\n",
            "  [ 2.23110271e+00+0.00000000e+00j -3.05308914e+00+2.02171803e+00j\n",
            "    1.98752439e+00-1.28285336e+00j ... -1.51991844e-04+5.54323196e-06j\n",
            "    3.22818756e-04-1.53779984e-05j -3.58819962e-04+0.00000000e+00j]\n",
            "  [-6.42441034e+00+0.00000000e+00j  4.77360535e+00-3.29090977e+00j\n",
            "   -1.06434330e-01+2.44245386e+00j ...  5.91166317e-05-9.23871994e-05j\n",
            "   -8.51154327e-05+1.19805336e-04j -2.52723694e-05-0.00000000e+00j]\n",
            "  [ 3.01925898e+00+0.00000000e+00j -1.04283348e-01+3.90672445e+00j\n",
            "   -1.28057671e+00+4.59841871e+00j ... -1.05142593e-04+2.16960907e-04j\n",
            "    2.34860927e-04-1.92761421e-04j -3.29494476e-04+0.00000000e+00j]]]\n"
          ],
          "name": "stdout"
        }
      ]
    },
    {
      "cell_type": "code",
      "metadata": {
        "id": "SkUP_aCuKmaX"
      },
      "source": [
        ""
      ],
      "execution_count": null,
      "outputs": []
    }
  ]
}